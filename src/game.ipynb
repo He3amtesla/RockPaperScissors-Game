{
 "cells": [
  {
   "cell_type": "markdown",
   "metadata": {},
   "source": [
    "1. از کاربر بگیر سنگ کاغذ قیچی\n",
    "2. گرفتن از کامپویتر سنگ کاغذ قیچی\n",
    "3. بررسی کردن\n",
    "4. \n",
    "5.\n",
    "6.\n",
    "---\n",
    "1. get player choice\n",
    "2. get computer choice\n",
    "3. get winner\n",
    "4. print winner\n",
    "5. play again?"
   ]
  },
  {
   "cell_type": "code",
   "execution_count": 82,
   "metadata": {},
   "outputs": [],
   "source": [
    "import random\n",
    "\n",
    "\n",
    "class RockPaperScissors():\n",
    "    def __init__ (self):\n",
    "       self.list_choice = [\"rock\", \"paper\", \"scissors\"] \n",
    "\n",
    "    def get_player_choice(self):\n",
    "        user_input = input(f\"Enter your choice {self.list_choice}: \")\n",
    "        if user_input.lower() in self.list_choice:\n",
    "            return user_input.lower()\n",
    "     \n",
    "        print(f\"Invalid choice, you must select from {self.list_choice}\")\n",
    "        return self.get_player_choice()\n",
    "    \n",
    "    def get_computer_choice(self):\n",
    "        return random.choice(self.list_choice)\n",
    "    \n",
    "    def decide_winner(self, user_choice, computer_choice):\n",
    "        if user_choice == computer_choice:\n",
    "            return \"Tie\"\n",
    "        \n",
    "        win_combinetions = [(\"rock\", \"scissors\"), (\"paper\", \"rock\"), (\"scissors\", \"paper\")]\n",
    "        for i in win_combinetions:\n",
    "           if (user_choice == i[0]) & (computer_choice == i[1]):\n",
    "               return \"User winner\"\n",
    "        return \"computer winner\"\n",
    "    \n",
    "    # def play_again(self):\n",
    "    #     print(\"do you like play again? (no --> q/Q) (yes --> anykeys)\")\n",
    "    #     if input() == \"q\" or \"Q\":\n",
    "    #         return\n",
    "    #     self.play()\n",
    "        \n",
    "    def play(self):\n",
    "        user_choice = self.get_player_choice()\n",
    "        computer_choice = self.get_computer_choice()\n",
    "        print(user_choice, computer_choice)\n",
    "        print(self.decide_winner(user_choice, computer_choice))\n",
    "        #self.play_again()\n",
    "        "
   ]
  },
  {
   "cell_type": "code",
   "execution_count": 85,
   "metadata": {},
   "outputs": [
    {
     "name": "stdout",
     "output_type": "stream",
     "text": [
      "rock scissors\n",
      "User winner\n",
      "do you want play again? (no --> q/Q) (yes --> anykeys)\n",
      "rock scissors\n",
      "User winner\n",
      "do you want play again? (no --> q/Q) (yes --> anykeys)\n"
     ]
    }
   ],
   "source": [
    "game = RockPaperScissors()\n",
    "\n",
    "while True:\n",
    "    game.play()\n",
    "    print(\"do you want play again? (no --> q/Q) (yes --> anykeys)\")\n",
    "    \n",
    "    if input().lower() == 'q':\n",
    "        break \n"
   ]
  },
  {
   "cell_type": "code",
   "execution_count": null,
   "metadata": {},
   "outputs": [],
   "source": []
  },
  {
   "cell_type": "code",
   "execution_count": null,
   "metadata": {},
   "outputs": [],
   "source": []
  }
 ],
 "metadata": {
  "kernelspec": {
   "display_name": "py310",
   "language": "python",
   "name": "python3"
  },
  "language_info": {
   "codemirror_mode": {
    "name": "ipython",
    "version": 3
   },
   "file_extension": ".py",
   "mimetype": "text/x-python",
   "name": "python",
   "nbconvert_exporter": "python",
   "pygments_lexer": "ipython3",
   "version": "3.10.15"
  }
 },
 "nbformat": 4,
 "nbformat_minor": 2
}

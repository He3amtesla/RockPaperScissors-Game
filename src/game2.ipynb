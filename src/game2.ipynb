{
 "cells": [
  {
   "cell_type": "markdown",
   "metadata": {},
   "source": [
    "1 - get_user_choice\n",
    "2 - get_computer_choice\n",
    "3 - winner \n",
    "4 - \n",
    "5 - play\n",
    "6 - play again"
   ]
  },
  {
   "cell_type": "code",
   "execution_count": 47,
   "metadata": {},
   "outputs": [],
   "source": [
    "import random\n",
    "\n",
    "\n",
    "class RockPaperScissors:\n",
    "    def __init__(self):\n",
    "        self.list_choises = [\"rock\",\"paper\",\"scissors\"]\n",
    "    \n",
    "    def get_user_choice(self):\n",
    "        player_choice = input(f\"please choice this one to run to game: {self.list_choises}\")\n",
    "        if player_choice.lower() in self.list_choises:\n",
    "            print(f\"You Choice: {player_choice.lower()}\")\n",
    "            return player_choice.lower()\n",
    "        \n",
    "        print(f\"wrong please {self.list_choises}\")\n",
    "        return self.get_user_choice()\n",
    "        \n",
    "    def get_computer_choice(self):\n",
    "        computer_choice = random.choice(self.list_choises)\n",
    "        print(f\"Computer Choice: {computer_choice}\")\n",
    "        return computer_choice\n",
    "        \n",
    "    def winner(self):\n",
    "        user_choice = self.get_user_choice()\n",
    "        computer_choice = self.get_computer_choice()\n",
    "        if computer_choice == user_choice:\n",
    "            return \"It's Tie\"\n",
    "        \n",
    "        user_win = [(\"paper\", \"rock\"), (\"rock\", \"scissors\"), (\"scissors\", \"paper\")]\n",
    "        for i in user_win:\n",
    "            if (user_choice == i[0]) & (computer_choice== i[1]):\n",
    "                return \"congratulations You Win\"\n",
    "            \n",
    "        return \"You Lose\"\n",
    "    \n",
    "    def play(self):\n",
    "        #print(f\"User Choise: {self.get_user_choice()}\")\n",
    "        #print(f\"Computer Choise: {self.get_computer_choice()}\")\n",
    "        print(self.winner())"
   ]
  },
  {
   "cell_type": "code",
   "execution_count": 53,
   "metadata": {},
   "outputs": [
    {
     "name": "stdout",
     "output_type": "stream",
     "text": [
      "wrong please ['rock', 'paper', 'scissors']\n",
      "You Choice: rock\n",
      "Computer Choice: rock\n",
      "It's Tie\n",
      "do you like play again?: (yes --> anykeywords) (no --> Q/q)\n"
     ]
    }
   ],
   "source": [
    "Play = RockPaperScissors()\n",
    "\n",
    "\n",
    "while True:\n",
    "    Play.play()\n",
    "    \n",
    "    print(\"do you like play again?: (yes --> anykeywords) (no --> Q/q)\")\n",
    "    if input() == 'q' or 'Q': # چرا در پارنتز قرار دادن Q بزرگ کار نمیکنه\n",
    "        break"
   ]
  },
  {
   "cell_type": "code",
   "execution_count": null,
   "metadata": {},
   "outputs": [],
   "source": []
  }
 ],
 "metadata": {
  "kernelspec": {
   "display_name": "py310",
   "language": "python",
   "name": "python3"
  },
  "language_info": {
   "codemirror_mode": {
    "name": "ipython",
    "version": 3
   },
   "file_extension": ".py",
   "mimetype": "text/x-python",
   "name": "python",
   "nbconvert_exporter": "python",
   "pygments_lexer": "ipython3",
   "version": "3.10.15"
  }
 },
 "nbformat": 4,
 "nbformat_minor": 2
}
